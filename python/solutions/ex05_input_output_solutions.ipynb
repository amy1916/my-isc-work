{
 "cells": [
  {
   "cell_type": "markdown",
   "source": [
    "# Exercise 5: Input and Output"
   ],
   "metadata": {}
  },
  {
   "cell_type": "markdown",
   "source": [
    "## Aim: Introduce reading and writing from files.\n",
    "\n",
    "### Issues covered:\n",
    " - Opening files to read or write to\n",
    " - Reading data in blocks, lines or all\n",
    " - Writing data to files\n",
    " - Working with binary files"
   ],
   "metadata": {}
  },
  {
   "cell_type": "markdown",
   "source": [
    "## 1. Let's read the entire contents of the CSV file and display each line."
   ],
   "metadata": {}
  },
  {
   "cell_type": "markdown",
   "source": [
    "We will use this data file in this exercise: `example_data/weather.csv`\n",
    "\n",
    "Let's define a variable so we remember it:"
   ],
   "metadata": {}
  },
  {
   "cell_type": "code",
   "execution_count": 1,
   "source": [
    "WEATHER_FILE = \"example_data/weather.csv\""
   ],
   "outputs": [],
   "metadata": {}
  },
  {
   "cell_type": "markdown",
   "source": [
    "Use the `with` statement to open the file (in read mode, `\"r\"`)."
   ],
   "metadata": {}
  },
  {
   "cell_type": "markdown",
   "source": [
    "Read the contents of the file into the variable called `data` using the `read` method."
   ],
   "metadata": {}
  },
  {
   "cell_type": "code",
   "execution_count": 2,
   "source": [
    "with open(WEATHER_FILE, \"r\") as reader:  # can omit the \"r\" when reading\n",
    "    data = reader.read()"
   ],
   "outputs": [],
   "metadata": {}
  },
  {
   "cell_type": "markdown",
   "source": [
    "Print the contents of `data`."
   ],
   "metadata": {}
  },
  {
   "cell_type": "code",
   "execution_count": 3,
   "source": [
    "print(data)"
   ],
   "outputs": [
    {
     "output_type": "stream",
     "name": "stdout",
     "text": [
      "Date,Time,Temp,Rainfall\n",
      "2014-01-01,00:00,2.34,4.45\n",
      "2014-01-01,12:00,6.70,8.34\n",
      "2014-01-02,00:00,-1.34,10.25\n"
     ]
    }
   ],
   "metadata": {}
  },
  {
   "cell_type": "markdown",
   "source": [
    "## 2. Let's try reading the file line by line."
   ],
   "metadata": {}
  },
  {
   "cell_type": "markdown",
   "source": [
    "Use the `with` statement to open the weather file."
   ],
   "metadata": {}
  },
  {
   "cell_type": "markdown",
   "source": [
    "Start a while loop that continues until `readline()` returns an empty string."
   ],
   "metadata": {}
  },
  {
   "cell_type": "markdown",
   "source": [
    "Whilst inside the while loop read each line using the `readline()` method."
   ],
   "metadata": {}
  },
  {
   "cell_type": "markdown",
   "source": [
    "Print each line that is read."
   ],
   "metadata": {}
  },
  {
   "cell_type": "markdown",
   "source": [
    "When the loop has exited print `\"It's over\"`."
   ],
   "metadata": {}
  },
  {
   "cell_type": "code",
   "execution_count": 4,
   "source": [
    "with open(WEATHER_FILE) as reader:\n",
    "    line = reader.readline()\n",
    "    while line:\n",
    "        print(line)\n",
    "        line = reader.readline()\n",
    "print(\"It's over\")"
   ],
   "outputs": [
    {
     "output_type": "stream",
     "name": "stdout",
     "text": [
      "Date,Time,Temp,Rainfall\n",
      "\n",
      "2014-01-01,00:00,2.34,4.45\n",
      "\n",
      "2014-01-01,12:00,6.70,8.34\n",
      "\n",
      "2014-01-02,00:00,-1.34,10.25\n",
      "It's over\n"
     ]
    }
   ],
   "metadata": {}
  },
  {
   "cell_type": "markdown",
   "source": [
    "## 3. Let's do the same thing using a `for` loop and grab just the rainfall values."
   ],
   "metadata": {}
  },
  {
   "cell_type": "markdown",
   "source": [
    "Use the `with` statement to open the weather file."
   ],
   "metadata": {}
  },
  {
   "cell_type": "markdown",
   "source": [
    "Read the first line using the `readline()` method of the file handle."
   ],
   "metadata": {}
  },
  {
   "cell_type": "markdown",
   "source": [
    "Create an empty list called `rain`."
   ],
   "metadata": {}
  },
  {
   "cell_type": "markdown",
   "source": [
    "Create a `for` loop that reads each line as a variable `line`. Print each line within the loop."
   ],
   "metadata": {}
  },
  {
   "cell_type": "markdown",
   "source": [
    "Can you extract only the rainfall values from the final column, convert them to real types (decimals) using `float` and append them to the list `rain`?"
   ],
   "metadata": {}
  },
  {
   "cell_type": "code",
   "execution_count": 5,
   "source": [
    "with open(WEATHER_FILE) as reader:\n",
    "    header = reader.readline() #   We will ignore this\n",
    "    rain = []\n",
    "    for line in reader.readlines():\n",
    "        print(line)\n",
    "        r = line.strip().split(\",\")[-1]\n",
    "        r = float(r)         \n",
    "        rain.append(r)"
   ],
   "outputs": [
    {
     "output_type": "stream",
     "name": "stdout",
     "text": [
      "2014-01-01,00:00,2.34,4.45\n",
      "\n",
      "2014-01-01,12:00,6.70,8.34\n",
      "\n",
      "2014-01-02,00:00,-1.34,10.25\n"
     ]
    }
   ],
   "metadata": {}
  },
  {
   "cell_type": "markdown",
   "source": [
    "Print the contents of `rain`."
   ],
   "metadata": {}
  },
  {
   "cell_type": "code",
   "execution_count": 6,
   "source": [
    "print(rain)"
   ],
   "outputs": [
    {
     "output_type": "stream",
     "name": "stdout",
     "text": [
      "[4.45, 8.34, 10.25]\n"
     ]
    }
   ],
   "metadata": {}
  },
  {
   "cell_type": "markdown",
   "source": [
    "Now try writing the contents of rain to a file called `\"myrain.txt\"`. (Use the `write()` method of a file handle)."
   ],
   "metadata": {}
  },
  {
   "cell_type": "code",
   "execution_count": 7,
   "source": [
    "with open(\"myrain.txt\", \"w\") as writer:\n",
    "    for r in rain:\n",
    "        writer.write(str(r) + \"\\n\")"
   ],
   "outputs": [],
   "metadata": {}
  },
  {
   "cell_type": "code",
   "execution_count": 8,
   "source": [
    "# note - you can now open \"myrain.txt\" in the notebook to take a look at it"
   ],
   "outputs": [],
   "metadata": {}
  },
  {
   "cell_type": "markdown",
   "source": [
    "## 4. Let's try writing and reading some binary data [ADVANCED]."
   ],
   "metadata": {}
  },
  {
   "cell_type": "markdown",
   "source": [
    "Firstly, we'll need to import the `struct` module which allows us to pack/unpack data to/from binary: `import struct`"
   ],
   "metadata": {}
  },
  {
   "cell_type": "markdown",
   "source": [
    "Pack the following list of values into four bytes using the `struct.pack` function:\n",
    "```\n",
    "bin_data = struct.pack(\"bbbb\", 123,12,45,34)\n",
    "```"
   ],
   "metadata": {}
  },
  {
   "cell_type": "code",
   "execution_count": 9,
   "source": [
    "import struct\n",
    "bin_data = struct.pack(\"bbbb\", 123, 12, 45, 34)"
   ],
   "outputs": [],
   "metadata": {}
  },
  {
   "cell_type": "markdown",
   "source": [
    "Use the `with` statement to create a binary file handle in write mode (`\"wb\"`) to a file called `\"mybinary.dat\"`."
   ],
   "metadata": {}
  },
  {
   "cell_type": "markdown",
   "source": [
    "Write the binary data to the file."
   ],
   "metadata": {}
  },
  {
   "cell_type": "code",
   "execution_count": 10,
   "source": [
    "with open(\"mybinary.dat\", \"wb\") as bwriter:\n",
    "    bwriter.write(bin_data)"
   ],
   "outputs": [],
   "metadata": {}
  },
  {
   "cell_type": "code",
   "execution_count": 11,
   "source": [
    "# note - if you open \"mybinary.dat\" in the notebook, you will find that \n",
    "# although you can open it, the contents are not human-readable"
   ],
   "outputs": [],
   "metadata": {}
  },
  {
   "cell_type": "markdown",
   "source": [
    "Use the `with` statement to open the file (in binary read mode)."
   ],
   "metadata": {}
  },
  {
   "cell_type": "markdown",
   "source": [
    "Read the contents of the file into a variable called `bin_data2`."
   ],
   "metadata": {}
  },
  {
   "cell_type": "code",
   "execution_count": 12,
   "source": [
    "with open(\"mybinary.dat\", \"rb\") as breader:\n",
    "    bin_data2 = breader.read()"
   ],
   "outputs": [],
   "metadata": {}
  },
  {
   "cell_type": "markdown",
   "source": [
    "Unpack the binary data using:\n",
    "```\n",
    "data = struct.unpack(\"bbbb\", bin_data2)\n",
    "```"
   ],
   "metadata": {}
  },
  {
   "cell_type": "code",
   "execution_count": 13,
   "source": [
    "data = struct.unpack(\"bbbb\", bin_data2)  # note - this depends on the \"import struct\" above"
   ],
   "outputs": [],
   "metadata": {}
  },
  {
   "cell_type": "markdown",
   "source": [
    "Print the `data` variable to check it contains the same four values you started with."
   ],
   "metadata": {}
  },
  {
   "cell_type": "code",
   "execution_count": 14,
   "source": [
    "print(data)"
   ],
   "outputs": [
    {
     "output_type": "stream",
     "name": "stdout",
     "text": [
      "(123, 12, 45, 34)\n"
     ]
    }
   ],
   "metadata": {}
  }
 ],
 "metadata": {
  "kernelspec": {
   "display_name": "Python 3 + Jaspy",
   "language": "python",
   "name": "jaspy"
  },
  "language_info": {
   "codemirror_mode": {
    "name": "ipython",
    "version": 3
   },
   "file_extension": ".py",
   "mimetype": "text/x-python",
   "name": "python",
   "nbconvert_exporter": "python",
   "pygments_lexer": "ipython3",
   "version": "3.8.12"
  }
 },
 "nbformat": 4,
 "nbformat_minor": 4
}